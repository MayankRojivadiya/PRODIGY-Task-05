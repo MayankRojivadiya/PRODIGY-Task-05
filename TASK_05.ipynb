{
 "cells": [
  {
   "cell_type": "markdown",
   "id": "aa76a46f",
   "metadata": {},
   "source": [
    "# Task-05\n",
    "\n",
    "<i>Analyze traffic accident data to identify patterns based on time of day, weather, and road conditions..</i>\n",
    "\n",
    "Name :- Mayank Rojivadiya"
   ]
  },
  {
   "cell_type": "code",
   "execution_count": null,
   "id": "f82ebf5d",
   "metadata": {
    "vscode": {
     "languageId": "plaintext"
    }
   },
   "outputs": [],
   "source": [
    "import pandas as pd\n",
    "\n",
    "df = pd.read_csv('US_Accidents_Dec21_updated.csv')\n",
    "df.head()\n"
   ]
  },
  {
   "cell_type": "markdown",
   "id": "29660749",
   "metadata": {},
   "source": [
    "# Data Cleaning & Preprocessing"
   ]
  },
  {
   "cell_type": "code",
   "execution_count": null,
   "id": "ebb82d0f",
   "metadata": {
    "vscode": {
     "languageId": "plaintext"
    }
   },
   "outputs": [],
   "source": [
    "df['Start_Time'] = pd.to_datetime(df['Start_Time'])\n",
    "df['Hour'] = df['Start_Time'].dt.hour\n",
    "df['Weekday'] = df['Start_Time'].dt.day_name()\n"
   ]
  },
  {
   "cell_type": "markdown",
   "id": "dbfa4a1e",
   "metadata": {},
   "source": [
    "# Exploratory Data Analysis (EDA)\n",
    "📊 Patterns to Analyze:\n",
    "Time of Day: Accidents per hour.\n",
    "\n",
    "Weather Conditions: Most common weather during accidents.\n",
    "\n",
    "Road Conditions: Influence of visibility, temperature, humidity, etc.\n",
    "\n",
    "Accidents per weekday"
   ]
  },
  {
   "cell_type": "code",
   "execution_count": null,
   "id": "a9f23220",
   "metadata": {
    "vscode": {
     "languageId": "plaintext"
    }
   },
   "outputs": [],
   "source": [
    "import seaborn as sns\n",
    "import matplotlib.pyplot as plt\n",
    "\n",
    "# Accidents by hour\n",
    "sns.histplot(df['Hour'], bins=24, kde=False)\n",
    "plt.title(\"Accidents by Hour of Day\")\n",
    "plt.xlabel(\"Hour\")\n",
    "plt.ylabel(\"Number of Accidents\")\n",
    "plt.show()\n"
   ]
  },
  {
   "cell_type": "markdown",
   "id": "dd571eea",
   "metadata": {},
   "source": [
    "# Visualize Accident Hotspots\n",
    "\n",
    "Using folium to map:"
   ]
  },
  {
   "cell_type": "code",
   "execution_count": null,
   "id": "ec174f07",
   "metadata": {
    "vscode": {
     "languageId": "plaintext"
    }
   },
   "outputs": [],
   "source": [
    "import folium\n",
    "from folium.plugins import HeatMap\n",
    "\n",
    "map = folium.Map(location=[39.8283, -98.5795], zoom_start=4)\n",
    "heat_data = [[row['Start_Lat'], row['Start_Lng']] for index, row in df.sample(10000).iterrows()]\n",
    "HeatMap(heat_data).add_to(map)\n",
    "map.save(\"accident_hotspots.html\")\n"
   ]
  },
  {
   "cell_type": "markdown",
   "id": "b5c6f710",
   "metadata": {},
   "source": [
    "# Export Processed Data"
   ]
  },
  {
   "cell_type": "code",
   "execution_count": null,
   "id": "3c139171",
   "metadata": {
    "vscode": {
     "languageId": "plaintext"
    }
   },
   "outputs": [],
   "source": [
    "df_clean = df[['ID', 'Start_Time', 'Hour', 'Weekday', 'Weather_Condition', 'Visibility(mi)', 'Severity']]\n",
    "df_clean.to_csv(\"processed_accidents.csv\", index=False)\n"
   ]
  }
 ],
 "metadata": {
  "language_info": {
   "name": "python"
  }
 },
 "nbformat": 4,
 "nbformat_minor": 5
}
